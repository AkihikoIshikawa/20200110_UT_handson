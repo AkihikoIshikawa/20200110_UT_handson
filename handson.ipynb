{
  "nbformat": 4,
  "nbformat_minor": 0,
  "metadata": {
    "colab": {
      "name": "main.ipynb",
      "provenance": [],
      "collapsed_sections": []
    },
    "kernelspec": {
      "display_name": "Python 3",
      "language": "python",
      "name": "python3"
    },
    "accelerator": "GPU"
  },
  "cells": [
    {
      "cell_type": "markdown",
      "metadata": {
        "id": "mKTspVjmcuiW",
        "colab_type": "text"
      },
      "source": [
        "# 手書き文字認識ハンズオン"
      ]
    },
    {
      "cell_type": "code",
      "metadata": {
        "id": "qkF7VM_rgEp6",
        "colab_type": "code",
        "colab": {}
      },
      "source": [
        "# ライブラリの読み込み\n",
        "import keras\n",
        "from keras.datasets import mnist\n",
        "from keras.models import Sequential\n",
        "from keras.layers import Dense, Dropout, Activation\n",
        "import matplotlib.pyplot as plt\n",
        "%matplotlib inline"
      ],
      "execution_count": 0,
      "outputs": []
    },
    {
      "cell_type": "code",
      "metadata": {
        "id": "X_Lyqb1xgEqD",
        "colab_type": "code",
        "colab": {}
      },
      "source": [
        "# データ読み込み\n",
        "(x_train, y_train), (x_test, y_test) = mnist.load_data()\n",
        "x_train = x_train.reshape(60000, 784)\n",
        "x_test = x_test.reshape(10000, 784)\n",
        "\n",
        "x_train = x_train.astype('float32')\n",
        "x_test = x_test.astype('float32')\n",
        "\n",
        "x_train /= 255\n",
        "x_test /= 255\n",
        "\n",
        "print(x_train.shape[0], 'train samples')\n",
        "print(x_test.shape[0], 'test samples')\n",
        "\n",
        "# one-hot-label に変換\n",
        "num_classes = 10\n",
        "y_train = keras.utils.to_categorical(y_train, num_classes)\n",
        "y_test = keras.utils.to_categorical(y_test, num_classes)"
      ],
      "execution_count": 0,
      "outputs": []
    },
    {
      "cell_type": "code",
      "metadata": {
        "colab_type": "code",
        "id": "s2lKupGTchR2",
        "colab": {}
      },
      "source": [
        "# モデルの構築\n",
        "model = Sequential()\n",
        "\n",
        "# 最初の隠れ層(入力784 -> 出力256)\n",
        "model.add(Dense(256, activation=\"sigmoid\",input_shape=(784,)))\n",
        "model.add(Dropout(0.1))\n",
        "\n",
        "# 2つ目の隠れ層(入力256 -> 出力512)\n",
        "## 隠れ層は以下の2行をコピペすることで追加できます\n",
        "model.add(Dense(512, activation='sigmoid'))\n",
        "model.add(Dropout(0.5))\n",
        "\n",
        "# 3つ目の隠れ層(入力512 -> 出力100)\n",
        "## 隠れ層は以下の2行をコピペすることで追加できます\n",
        "model.add(Dense(100, activation='sigmoid'))\n",
        "model.add(Dropout(0.1))\n",
        "\n",
        "# 出力層(入力100 -> 出力10)\n",
        "model.add(Dense(10, activation='softmax'))\n",
        "\n",
        "# モデル概要表示\n",
        "model.summary()"
      ],
      "execution_count": 0,
      "outputs": []
    },
    {
      "cell_type": "code",
      "metadata": {
        "id": "IX9tN7tpdvGu",
        "colab_type": "code",
        "colab": {}
      },
      "source": [
        "# モデルのコンパイル\n",
        "model.compile(loss='categorical_crossentropy',\n",
        "              optimizer='SGD',\n",
        "              metrics=['accuracy'])"
      ],
      "execution_count": 0,
      "outputs": []
    },
    {
      "cell_type": "code",
      "metadata": {
        "id": "WA0pPmEfd1QR",
        "colab_type": "code",
        "colab": {}
      },
      "source": [
        "# バッチサイズ\n",
        "batch_size = 100\n",
        "\n",
        "# エポック数\n",
        "epochs = 10\n",
        "\n",
        "# フィッティング(学習)\n",
        "history = model.fit(x_train, y_train,\n",
        "                    batch_size=batch_size,\n",
        "                    epochs=epochs,\n",
        "                    verbose=1,\n",
        "                    validation_data=(x_test, y_test))"
      ],
      "execution_count": 0,
      "outputs": []
    },
    {
      "cell_type": "code",
      "metadata": {
        "id": "f6s2PCIzd3LU",
        "colab_type": "code",
        "colab": {}
      },
      "source": [
        "# スコアの計算・表示\n",
        "score = model.evaluate(x_test, y_test, verbose=1)\n",
        "print('Test loss:', score[0])\n",
        "print('Test accuracy:', score[1])\n",
        "\n",
        "# モデルの評価\n",
        "model.evaluate(x_test, y_test, verbose=1)"
      ],
      "execution_count": 0,
      "outputs": []
    },
    {
      "cell_type": "code",
      "metadata": {
        "id": "KUV12iW8gEqP",
        "colab_type": "code",
        "colab": {}
      },
      "source": [
        "# 学習の様子をプロット\n",
        "loss = history.history['loss']\n",
        "val_loss = history.history['val_loss']\n",
        "\n",
        "acc = history.history['acc']\n",
        "val_acc = history.history['val_acc']\n",
        "\n",
        "plt.figure(figsize=(10,10))\n",
        "plt.subplot(2,1,1)\n",
        "plt.title('Loss')\n",
        "epochs = len(loss)\n",
        "plt.plot(range(epochs), loss, marker='.', label='loss')\n",
        "plt.plot(range(epochs), val_loss, marker='.', label='val_loss')\n",
        "plt.legend(loc='best')\n",
        "plt.grid()\n",
        "plt.xlabel('epoch')\n",
        "plt.ylabel('acc')\n",
        "\n",
        "plt.subplot(2,1,2)\n",
        "plt.title('Accuracy')\n",
        "plt.plot(range(epochs), acc, marker='.', label='acc')\n",
        "plt.plot(range(epochs), val_acc, marker='.', label='val_acc')\n",
        "plt.legend(loc='best')\n",
        "plt.grid()\n",
        "plt.xlabel('epoch')\n",
        "plt.ylabel('acc')\n",
        "plt.show()"
      ],
      "execution_count": 0,
      "outputs": []
    }
  ]
}
