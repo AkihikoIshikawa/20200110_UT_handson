{
  "nbformat": 4,
  "nbformat_minor": 0,
  "metadata": {
    "kernelspec": {
      "display_name": "Python 3",
      "language": "python",
      "name": "python3"
    },
    "language_info": {
      "codemirror_mode": {
        "name": "ipython",
        "version": 3
      },
      "file_extension": ".py",
      "mimetype": "text/x-python",
      "name": "python",
      "nbconvert_exporter": "python",
      "pygments_lexer": "ipython3",
      "version": "3.6.1"
    },
    "colab": {
      "name": "handson-sample.ipynb",
      "provenance": [],
      "collapsed_sections": []
    }
  },
  "cells": [
    {
      "cell_type": "markdown",
      "metadata": {
        "id": "XFnMm1JuFiyO",
        "colab_type": "text"
      },
      "source": [
        "# KerasによるDeep Neural Network実装(MNIST)\n",
        "PythonのDeep Learningライブラリ Kerasを用いてDeep Neural Networkの実装をします．"
      ]
    },
    {
      "cell_type": "code",
      "metadata": {
        "id": "PdPDPnCZFiyQ",
        "colab_type": "code",
        "colab": {}
      },
      "source": [
        "import keras\n",
        "from keras.datasets import mnist\n",
        "from keras.models import Sequential\n",
        "from keras.layers import Dense, Dropout, Activation\n",
        "import matplotlib.pyplot as plt\n",
        "import seaborn as sns\n",
        "import h5py\n",
        "\n",
        "from matplotlib import rcParams\n",
        "rcParams[\"figure.figsize\"] = [15, 5]\n",
        "rcParams['xtick.labelsize'] = 15\n",
        "rcParams['ytick.labelsize'] = 15\n",
        "rcParams['axes.labelsize'] = 15\n",
        "rcParams['axes.titlesize'] = 18\n",
        "rcParams['axes.grid'] = True\n",
        "rcParams['legend.fontsize'] = 15\n",
        "\n",
        "%matplotlib inline"
      ],
      "execution_count": 0,
      "outputs": []
    },
    {
      "cell_type": "markdown",
      "metadata": {
        "id": "xuaHWs3vFiyU",
        "colab_type": "text"
      },
      "source": [
        "- `keras.layers` からは，ディープラーニングで用いることのできる様々なレイヤーをimportできます．特に基本的なレイヤーは，`keras.layers.core`にまとめられています．詳細は公式リファレンスを参照してください．\n",
        "\n",
        "Core Layers: https://keras.io/ja/layers/core/"
      ]
    },
    {
      "cell_type": "markdown",
      "metadata": {
        "id": "A2TsfaOoFiyV",
        "colab_type": "text"
      },
      "source": [
        "## 1. データの準備"
      ]
    },
    {
      "cell_type": "markdown",
      "metadata": {
        "id": "i1w-Ve8WFiyV",
        "colab_type": "text"
      },
      "source": [
        "- MNISTをはじめ，いくつかのデータセットはKerasからimportすることができます．\n"
      ]
    },
    {
      "cell_type": "code",
      "metadata": {
        "id": "d4zY2JxCFiyW",
        "colab_type": "code",
        "colab": {}
      },
      "source": [
        "(x_train, y_train), (x_test, y_test) = mnist.load_data()"
      ],
      "execution_count": 0,
      "outputs": []
    },
    {
      "cell_type": "markdown",
      "metadata": {
        "id": "w3WzqvXBFiyY",
        "colab_type": "text"
      },
      "source": [
        "- ほとんどの場合，データセットの前処理が必要です．ロードしたデータのshapeを確認し，学習に適した形式に変換します．"
      ]
    },
    {
      "cell_type": "code",
      "metadata": {
        "id": "SB6OfbsFFiyZ",
        "colab_type": "code",
        "colab": {}
      },
      "source": [
        "print(\"x_train:\",x_train.shape)\n",
        "print(\"y_train:\",y_train.shape)\n",
        "print(\"x_test:\",x_test.shape)\n",
        "print(\"y_test:\",y_test.shape)"
      ],
      "execution_count": 0,
      "outputs": []
    },
    {
      "cell_type": "code",
      "metadata": {
        "id": "7J7Mq8CfFiyb",
        "colab_type": "code",
        "colab": {}
      },
      "source": [
        "# 28x28 の行列を 784x1 のベクトルに変換してください \n",
        "\n",
        "x_train = x_train.reshape(60000, 784)\n",
        "x_test = x_test.reshape(10000, 784)"
      ],
      "execution_count": 0,
      "outputs": []
    },
    {
      "cell_type": "markdown",
      "metadata": {
        "id": "euC1eheuFiyd",
        "colab_type": "text"
      },
      "source": [
        "- 画素値の正規化を行います．通常$0-255$の値をとる画素値を，$0-1$の範囲に変換します．"
      ]
    },
    {
      "cell_type": "code",
      "metadata": {
        "id": "AvmN0tCdFiye",
        "colab_type": "code",
        "colab": {}
      },
      "source": [
        "x_train = x_train.astype('float32')\n",
        "x_test = x_test.astype('float32')\n",
        "x_train /= 255\n",
        "x_test /= 255"
      ],
      "execution_count": 0,
      "outputs": []
    },
    {
      "cell_type": "markdown",
      "metadata": {
        "id": "o_LGxt7PFiyg",
        "colab_type": "text"
      },
      "source": [
        "- クラス分類タスクでは，正解ラベルをOne-hot Label形式で表現します．kerasでは，`keras.utils.to_categorical`関数で変換できます．"
      ]
    },
    {
      "cell_type": "code",
      "metadata": {
        "id": "Dsv3LfKLFiyh",
        "colab_type": "code",
        "colab": {}
      },
      "source": [
        "# 変換前\n",
        "\n",
        "y_train[:10]"
      ],
      "execution_count": 0,
      "outputs": []
    },
    {
      "cell_type": "code",
      "metadata": {
        "id": "puui5DQwFiyj",
        "colab_type": "code",
        "colab": {}
      },
      "source": [
        "y_train = keras.utils.to_categorical(y_train, 10)\n",
        "y_test = keras.utils.to_categorical(y_test, 10)"
      ],
      "execution_count": 0,
      "outputs": []
    },
    {
      "cell_type": "code",
      "metadata": {
        "id": "tFe4KmZaFiyl",
        "colab_type": "code",
        "colab": {}
      },
      "source": [
        "# 変換後\n",
        "\n",
        "y_train[:10]"
      ],
      "execution_count": 0,
      "outputs": []
    },
    {
      "cell_type": "markdown",
      "metadata": {
        "id": "_oojw3T0Fiyn",
        "colab_type": "text"
      },
      "source": [
        "- 最後に，データセットの次元を確認します．"
      ]
    },
    {
      "cell_type": "code",
      "metadata": {
        "id": "PVYrOEv9Fiyo",
        "colab_type": "code",
        "colab": {}
      },
      "source": [
        "print(\"x_train:\",x_train.shape)\n",
        "print(\"y_train:\",y_train.shape)\n",
        "print(\"x_test:\",x_test.shape)\n",
        "print(\"y_test:\",y_test.shape)"
      ],
      "execution_count": 0,
      "outputs": []
    },
    {
      "cell_type": "markdown",
      "metadata": {
        "id": "dynRC5IHFiyq",
        "colab_type": "text"
      },
      "source": [
        "## 2. モデル構築"
      ]
    },
    {
      "cell_type": "markdown",
      "metadata": {
        "id": "_k_HL8V1Fiyr",
        "colab_type": "text"
      },
      "source": [
        "- SequentialモデルでDNNを構築します．`model = Sequential()`でSequentialモデルを宣言します．\n",
        "- 一つのレイヤーは`Dense`レイヤーを追加することで実装できます．`Dense`では，ユニット数と活性化を指定できます．\n",
        "- 一番初めの層だけは`input_shape`引数が必要です．入力の次元を指定します．"
      ]
    },
    {
      "cell_type": "code",
      "metadata": {
        "scrolled": false,
        "id": "EPE3pVKIFiyr",
        "colab_type": "code",
        "colab": {}
      },
      "source": [
        "# モデルの構築\n",
        "model = Sequential()\n",
        "\n",
        "# 最初の隠れ層(入力784 -> 出力512)\n",
        "model.add(Dense(512, activation=\"relu\",input_shape=(784,)))\n",
        "model.add(Dropout(0.7))\n",
        "\n",
        "# 2つ目の隠れ層(入力512 -> 出力256)\n",
        "## 隠れ層は以下の2行をコピペすることで追加できます\n",
        "model.add(Dense(256, activation='sigmoid'))\n",
        "model.add(Dropout(0.7))\n",
        "\n",
        "# 出力層(入力256 -> 出力10)\n",
        "model.add(Dense(10, activation='softmax'))"
      ],
      "execution_count": 0,
      "outputs": []
    },
    {
      "cell_type": "markdown",
      "metadata": {
        "id": "BDsPF2COFiyu",
        "colab_type": "text"
      },
      "source": [
        "- `model.summary()`関数で，構築したモデルの概要が確認できます．"
      ]
    },
    {
      "cell_type": "code",
      "metadata": {
        "id": "ed1azdULFiyu",
        "colab_type": "code",
        "colab": {}
      },
      "source": [
        "model.summary()"
      ],
      "execution_count": 0,
      "outputs": []
    },
    {
      "cell_type": "markdown",
      "metadata": {
        "id": "PIXpJfIyFiyx",
        "colab_type": "text"
      },
      "source": [
        "- 構築したモデルをコンパイルします．コンパイルには，損失関数，最適化手法と評価関数が設定できます．\n",
        "- 損失関数は次のものが使用できます: https://keras.io/ja/losses/\n",
        "- 最適化手法は次のものが使用できます: https://keras.io/ja/optimizers/\n",
        "  - `optimizer=\"XXX\"` の引数で指定する場合、挙げられている手法を小文字にして入力してください。\n",
        "  - (ex) Adagradを使用したい場合 `optimizer=\"adagrad\"`\n",
        "- 評価関数は，未指定の場合はlossが採用されます．その他いくつか使用可能なものがありますが，一般にはaccuracyを用いると良いでしょう．"
      ]
    },
    {
      "cell_type": "code",
      "metadata": {
        "id": "Z_deO8n-Fiyx",
        "colab_type": "code",
        "colab": {}
      },
      "source": [
        "model.compile(loss=\"mean_squared_error\", optimizer=\"adam\", metrics=['accuracy'])"
      ],
      "execution_count": 0,
      "outputs": []
    },
    {
      "cell_type": "markdown",
      "metadata": {
        "id": "GZeFOA_4Fiyz",
        "colab_type": "text"
      },
      "source": [
        "- バッチサイズ，エポック数を指定し，`model.fit`関数で学習を開始できます．\n",
        "- `model.fit`をもう一度実行すると，前回の学習状態からスタートします．リセットしたい場合は，`model.reset_states()`を再実行してから`model.fit`を実行します．"
      ]
    },
    {
      "cell_type": "code",
      "metadata": {
        "id": "aDFOiIn8Fiy0",
        "colab_type": "code",
        "colab": {}
      },
      "source": [
        "# バッチサイズ\n",
        "batch_size = 2000\n",
        "\n",
        "# エポック数\n",
        "epochs = 2"
      ],
      "execution_count": 0,
      "outputs": []
    },
    {
      "cell_type": "code",
      "metadata": {
        "scrolled": true,
        "id": "pXoYFLnFFizB",
        "colab_type": "code",
        "colab": {}
      },
      "source": [
        "# フィッティング(学習)\n",
        "history = model.fit(x_train, y_train,\n",
        "                                   batch_size=batch_size,\n",
        "                                   epochs=epochs,\n",
        "                                   validation_data=(x_test, y_test),\n",
        "                                   verbose=1)"
      ],
      "execution_count": 0,
      "outputs": []
    },
    {
      "cell_type": "markdown",
      "metadata": {
        "id": "nwBXEwNVFizD",
        "colab_type": "text"
      },
      "source": [
        "- `model.evaluate`関数によって現在のモデルの精度が確認できます．"
      ]
    },
    {
      "cell_type": "code",
      "metadata": {
        "id": "ljk0E9u8FizE",
        "colab_type": "code",
        "colab": {}
      },
      "source": [
        "# テストスコアの計算・表示\n",
        "score = model.evaluate(x_test, y_test, verbose=1)\n",
        "print('Test loss:', score[0])\n",
        "print('Test accuracy:', score[1])"
      ],
      "execution_count": 0,
      "outputs": []
    },
    {
      "cell_type": "markdown",
      "metadata": {
        "id": "1mKmhIlzFizF",
        "colab_type": "text"
      },
      "source": [
        "## 3. モデルの評価"
      ]
    },
    {
      "cell_type": "markdown",
      "metadata": {
        "id": "FPJMmrP5FizG",
        "colab_type": "text"
      },
      "source": [
        "## 3-1. 学習過程の可視化"
      ]
    },
    {
      "cell_type": "markdown",
      "metadata": {
        "id": "OFKn6HNPFizG",
        "colab_type": "text"
      },
      "source": [
        "- エポックごとのLossとAccuracyを可視化します．\n",
        "- 過学習やUnder Fittingの確認をすることができます．"
      ]
    },
    {
      "cell_type": "code",
      "metadata": {
        "id": "MPA__PFUFizI",
        "colab_type": "code",
        "colab": {}
      },
      "source": [
        "loss = history.history['loss']\n",
        "val_loss = history.history['val_loss']\n",
        "\n",
        "acc = history.history['acc']\n",
        "val_acc = history.history['val_acc']\n",
        "\n",
        "plt.figure(figsize=(15,5))\n",
        "plt.rcParams[\"font.size\"] = \"20\"\n",
        "plt.title('Loss')\n",
        "epochs = len(loss)\n",
        "plt.plot(range(epochs), loss, marker='.', label='loss')\n",
        "plt.plot(range(epochs), val_loss, marker='.', label='val_loss')\n",
        "plt.legend(loc='best')\n",
        "plt.xlabel('epoch')\n",
        "plt.ylabel('loss')\n",
        "plt.show()\n",
        "\n",
        "plt.figure(figsize=(15,5))\n",
        "plt.title('Accuracy')\n",
        "plt.plot(range(epochs), acc, marker='.', label='acc')\n",
        "plt.plot(range(epochs), val_acc, marker='.', label='val_acc')\n",
        "plt.legend(loc='best')\n",
        "plt.xlabel('epoch')\n",
        "plt.ylabel('acc')\n",
        "plt.show()"
      ],
      "execution_count": 0,
      "outputs": []
    },
    {
      "cell_type": "markdown",
      "metadata": {
        "id": "r8Frs18iFizK",
        "colab_type": "text"
      },
      "source": [
        "## 3-2. Confusion Matrix"
      ]
    },
    {
      "cell_type": "markdown",
      "metadata": {
        "id": "nPtPMHIKFizK",
        "colab_type": "text"
      },
      "source": [
        "- `sklearn`の`confusion_matrix`を用いると，簡単にconfusion matrixを求めることができます．`sklearn`は最も有名なPythonの機械学習ライブラリの一つです．\n",
        "- `model.predict_classes`関数を用いると，現在のモデルを用いたクラス分類結果を，クラスのインデックスで得ることができます．"
      ]
    },
    {
      "cell_type": "code",
      "metadata": {
        "id": "ZXo-BzNJFizL",
        "colab_type": "code",
        "colab": {}
      },
      "source": [
        "from sklearn.metrics import confusion_matrix\n",
        "import numpy as np\n",
        "import pandas as pd\n",
        "\n",
        "y_pred = model.predict_classes(x_test, batch_size=32, verbose=2)\n",
        "y_gt = np.apply_along_axis(np.argmax,1,y_test)\n",
        "\n",
        "conf_matrix = confusion_matrix(y_gt,y_pred)"
      ],
      "execution_count": 0,
      "outputs": []
    },
    {
      "cell_type": "markdown",
      "metadata": {
        "id": "s3M5V5BjFizN",
        "colab_type": "text"
      },
      "source": [
        "- 今回は，クラス分類結果数のマトリックスと，正解クラス別の予測分類結果の割合のマトリックスを表示してみます．"
      ]
    },
    {
      "cell_type": "code",
      "metadata": {
        "id": "2IP2pqlRFizN",
        "colab_type": "code",
        "colab": {}
      },
      "source": [
        "conf_cnt_df = pd.DataFrame(conf_matrix)\n",
        "conf_rate_df = pd.DataFrame(conf_matrix/np.sum(conf_matrix, axis=1))\n",
        "\n",
        "plt.figure(figsize = (8,8))\n",
        "sns.heatmap(conf_cnt_df, annot=True, cmap='RdYlGn', linewidths=0.1, vmin=0)\n",
        "plt.xlabel(\"Predict\", fontsize=20); plt.xticks(fontsize=20)\n",
        "plt.ylabel(\"Ground Truth\", fontsize=20); plt.yticks(fontsize=20)\n",
        "plt.show()\n",
        "\n",
        "plt.figure(figsize = (8,8))\n",
        "plt.title(\"Pred / GT\", fontsize=20)\n",
        "sns.heatmap(conf_rate_df, annot=True, cmap='RdYlGn', linewidths=0.1, vmin=0, vmax=1.)\n",
        "plt.xlabel(\"Predict\", fontsize=20); plt.xticks(fontsize=20)\n",
        "plt.ylabel(\"Ground Truth\", fontsize=20); plt.yticks(fontsize=20)\n",
        "plt.show()"
      ],
      "execution_count": 0,
      "outputs": []
    },
    {
      "cell_type": "markdown",
      "metadata": {
        "id": "BlBKjocwFizP",
        "colab_type": "text"
      },
      "source": [
        "## 3-3. Recall, Precision, F-Measure"
      ]
    },
    {
      "cell_type": "markdown",
      "metadata": {
        "id": "4n9xZTYgFizQ",
        "colab_type": "text"
      },
      "source": [
        "- 機械学習で一般的な評価指標であるRecall, Precision, F-Measureも求めてみます．\n",
        "- Confusion Matrixを用いて，True Positive, False Positive, True Negative, False Negativeの各値を，クラスごとに求めます．"
      ]
    },
    {
      "cell_type": "code",
      "metadata": {
        "id": "O1NQjYBsFizQ",
        "colab_type": "code",
        "colab": {}
      },
      "source": [
        "col=[\"TP\",\"FP\",\"TN\",\"FN\",\"Precision\",\"Recall\",\"F\"]\n",
        "\n",
        "df_evaluation = pd.DataFrame(columns=col)\n",
        "\n",
        "for i in range(conf_matrix.shape[0]):\n",
        "    tp = conf_matrix[i][i]\n",
        "    fp = np.sum(conf_matrix[:,i]) - tp\n",
        "    fn = np.sum(conf_matrix[i]) - tp\n",
        "    tn = np.sum(conf_matrix) - tp - fp - fn\n",
        "    precision = tp / (tp + fp)\n",
        "    recall = tp / (tp + fn)\n",
        "    F = 2 * recall * precision / (recall + precision)\n",
        "    df_evaluation = df_evaluation.append(pd.DataFrame([[tp,fp,tn,fn,precision,recall,F]],\n",
        "                                                                      columns=col),\n",
        "                                                                     ignore_index=True)"
      ],
      "execution_count": 0,
      "outputs": []
    },
    {
      "cell_type": "code",
      "metadata": {
        "id": "D_QbatXLFizS",
        "colab_type": "code",
        "colab": {}
      },
      "source": [
        "df_evaluation"
      ],
      "execution_count": 0,
      "outputs": []
    },
    {
      "cell_type": "markdown",
      "metadata": {
        "id": "b3yxw-WvFizT",
        "colab_type": "text"
      },
      "source": [
        "- 評価値の統計量を計算します，"
      ]
    },
    {
      "cell_type": "code",
      "metadata": {
        "id": "kTEh3Yg3FizT",
        "colab_type": "code",
        "colab": {}
      },
      "source": [
        "df_evaluation.describe()"
      ],
      "execution_count": 0,
      "outputs": []
    },
    {
      "cell_type": "markdown",
      "metadata": {
        "id": "AwDhqp5mFizV",
        "colab_type": "text"
      },
      "source": [
        "## 3-4. モデルの保存"
      ]
    },
    {
      "cell_type": "markdown",
      "metadata": {
        "id": "H3dHhZeYFizV",
        "colab_type": "text"
      },
      "source": [
        "- `model.save`で，現在のモデルを保存できます．"
      ]
    },
    {
      "cell_type": "code",
      "metadata": {
        "id": "n2JihMzZFizW",
        "colab_type": "code",
        "colab": {}
      },
      "source": [
        "model.save(\"nn_mnist.h5\")"
      ],
      "execution_count": 0,
      "outputs": []
    },
    {
      "cell_type": "markdown",
      "metadata": {
        "id": "0UI3C_swFizX",
        "colab_type": "text"
      },
      "source": [
        "- 保存したモデルは以下のように呼び出せます．"
      ]
    },
    {
      "cell_type": "code",
      "metadata": {
        "id": "nqKx969UFizZ",
        "colab_type": "code",
        "colab": {}
      },
      "source": [
        "# 保存したモデルを読み込む場合は実行\n",
        "# model = keras.models.load_model('./mnist_data.h5')"
      ],
      "execution_count": 0,
      "outputs": []
    }
  ]
}
